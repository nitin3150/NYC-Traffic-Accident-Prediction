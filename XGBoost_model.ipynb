{
  "nbformat": 4,
  "nbformat_minor": 0,
  "metadata": {
    "colab": {
      "provenance": []
    },
    "kernelspec": {
      "name": "python3",
      "display_name": "Python 3"
    },
    "language_info": {
      "name": "python"
    }
  },
  "cells": [
    {
      "cell_type": "code",
      "source": [
        "import pandas as pd\n",
        "\n",
        "df=pd.read_csv(\"/content/Motor_Vehicle_Collisions_-_Crashes_20250119.csv\")"
      ],
      "metadata": {
        "colab": {
          "base_uri": "https://localhost:8080/"
        },
        "id": "gaoMf_9EXGP-",
        "outputId": "5623cd0d-f8d0-400f-f8f7-6a0fb09d6047"
      },
      "execution_count": null,
      "outputs": [
        {
          "output_type": "stream",
          "name": "stderr",
          "text": [
            "<ipython-input-6-dd04d1d09e91>:3: DtypeWarning: Columns (3) have mixed types. Specify dtype option on import or set low_memory=False.\n",
            "  df=pd.read_csv(\"/content/Motor_Vehicle_Collisions_-_Crashes_20250119.csv\")\n"
          ]
        }
      ]
    },
    {
      "cell_type": "code",
      "source": [
        "df.head()"
      ],
      "metadata": {
        "colab": {
          "base_uri": "https://localhost:8080/",
          "height": 411
        },
        "id": "Ly3j2Ta6idom",
        "outputId": "0409cba3-f9e7-414f-9040-bc1e3780313c"
      },
      "execution_count": null,
      "outputs": [
        {
          "output_type": "execute_result",
          "data": {
            "text/plain": [
              "   CRASH DATE CRASH TIME   BOROUGH ZIP CODE   LATITUDE  LONGITUDE  \\\n",
              "0  09/11/2021       2:39       NaN      NaN        NaN        NaN   \n",
              "1  03/26/2022      11:45       NaN      NaN        NaN        NaN   \n",
              "2  06/29/2022       6:55       NaN      NaN        NaN        NaN   \n",
              "3  09/11/2021       9:35  BROOKLYN  11208.0  40.667202 -73.866500   \n",
              "4  12/14/2021       8:13  BROOKLYN  11233.0  40.683304 -73.917274   \n",
              "\n",
              "                  LOCATION           ON STREET NAME CROSS STREET NAME  \\\n",
              "0                      NaN    WHITESTONE EXPRESSWAY         20 AVENUE   \n",
              "1                      NaN  QUEENSBORO BRIDGE UPPER               NaN   \n",
              "2                      NaN       THROGS NECK BRIDGE               NaN   \n",
              "3    (40.667202, -73.8665)                      NaN               NaN   \n",
              "4  (40.683304, -73.917274)          SARATOGA AVENUE    DECATUR STREET   \n",
              "\n",
              "           OFF STREET NAME  ...  CONTRIBUTING FACTOR VEHICLE 2  \\\n",
              "0                      NaN  ...                    Unspecified   \n",
              "1                      NaN  ...                            NaN   \n",
              "2                      NaN  ...                    Unspecified   \n",
              "3  1211      LORING AVENUE  ...                            NaN   \n",
              "4                      NaN  ...                            NaN   \n",
              "\n",
              "   CONTRIBUTING FACTOR VEHICLE 3  CONTRIBUTING FACTOR VEHICLE 4  \\\n",
              "0                            NaN                            NaN   \n",
              "1                            NaN                            NaN   \n",
              "2                            NaN                            NaN   \n",
              "3                            NaN                            NaN   \n",
              "4                            NaN                            NaN   \n",
              "\n",
              "   CONTRIBUTING FACTOR VEHICLE 5  COLLISION_ID  VEHICLE TYPE CODE 1  \\\n",
              "0                            NaN       4455765                Sedan   \n",
              "1                            NaN       4513547                Sedan   \n",
              "2                            NaN       4541903                Sedan   \n",
              "3                            NaN       4456314                Sedan   \n",
              "4                            NaN       4486609                  NaN   \n",
              "\n",
              "   VEHICLE TYPE CODE 2  VEHICLE TYPE CODE 3 VEHICLE TYPE CODE 4  \\\n",
              "0                Sedan                  NaN                 NaN   \n",
              "1                  NaN                  NaN                 NaN   \n",
              "2        Pick-up Truck                  NaN                 NaN   \n",
              "3                  NaN                  NaN                 NaN   \n",
              "4                  NaN                  NaN                 NaN   \n",
              "\n",
              "  VEHICLE TYPE CODE 5  \n",
              "0                 NaN  \n",
              "1                 NaN  \n",
              "2                 NaN  \n",
              "3                 NaN  \n",
              "4                 NaN  \n",
              "\n",
              "[5 rows x 29 columns]"
            ],
            "text/html": [
              "\n",
              "  <div id=\"df-42e93833-12f8-4a7c-b0bd-bf78bda21d40\" class=\"colab-df-container\">\n",
              "    <div>\n",
              "<style scoped>\n",
              "    .dataframe tbody tr th:only-of-type {\n",
              "        vertical-align: middle;\n",
              "    }\n",
              "\n",
              "    .dataframe tbody tr th {\n",
              "        vertical-align: top;\n",
              "    }\n",
              "\n",
              "    .dataframe thead th {\n",
              "        text-align: right;\n",
              "    }\n",
              "</style>\n",
              "<table border=\"1\" class=\"dataframe\">\n",
              "  <thead>\n",
              "    <tr style=\"text-align: right;\">\n",
              "      <th></th>\n",
              "      <th>CRASH DATE</th>\n",
              "      <th>CRASH TIME</th>\n",
              "      <th>BOROUGH</th>\n",
              "      <th>ZIP CODE</th>\n",
              "      <th>LATITUDE</th>\n",
              "      <th>LONGITUDE</th>\n",
              "      <th>LOCATION</th>\n",
              "      <th>ON STREET NAME</th>\n",
              "      <th>CROSS STREET NAME</th>\n",
              "      <th>OFF STREET NAME</th>\n",
              "      <th>...</th>\n",
              "      <th>CONTRIBUTING FACTOR VEHICLE 2</th>\n",
              "      <th>CONTRIBUTING FACTOR VEHICLE 3</th>\n",
              "      <th>CONTRIBUTING FACTOR VEHICLE 4</th>\n",
              "      <th>CONTRIBUTING FACTOR VEHICLE 5</th>\n",
              "      <th>COLLISION_ID</th>\n",
              "      <th>VEHICLE TYPE CODE 1</th>\n",
              "      <th>VEHICLE TYPE CODE 2</th>\n",
              "      <th>VEHICLE TYPE CODE 3</th>\n",
              "      <th>VEHICLE TYPE CODE 4</th>\n",
              "      <th>VEHICLE TYPE CODE 5</th>\n",
              "    </tr>\n",
              "  </thead>\n",
              "  <tbody>\n",
              "    <tr>\n",
              "      <th>0</th>\n",
              "      <td>09/11/2021</td>\n",
              "      <td>2:39</td>\n",
              "      <td>NaN</td>\n",
              "      <td>NaN</td>\n",
              "      <td>NaN</td>\n",
              "      <td>NaN</td>\n",
              "      <td>NaN</td>\n",
              "      <td>WHITESTONE EXPRESSWAY</td>\n",
              "      <td>20 AVENUE</td>\n",
              "      <td>NaN</td>\n",
              "      <td>...</td>\n",
              "      <td>Unspecified</td>\n",
              "      <td>NaN</td>\n",
              "      <td>NaN</td>\n",
              "      <td>NaN</td>\n",
              "      <td>4455765</td>\n",
              "      <td>Sedan</td>\n",
              "      <td>Sedan</td>\n",
              "      <td>NaN</td>\n",
              "      <td>NaN</td>\n",
              "      <td>NaN</td>\n",
              "    </tr>\n",
              "    <tr>\n",
              "      <th>1</th>\n",
              "      <td>03/26/2022</td>\n",
              "      <td>11:45</td>\n",
              "      <td>NaN</td>\n",
              "      <td>NaN</td>\n",
              "      <td>NaN</td>\n",
              "      <td>NaN</td>\n",
              "      <td>NaN</td>\n",
              "      <td>QUEENSBORO BRIDGE UPPER</td>\n",
              "      <td>NaN</td>\n",
              "      <td>NaN</td>\n",
              "      <td>...</td>\n",
              "      <td>NaN</td>\n",
              "      <td>NaN</td>\n",
              "      <td>NaN</td>\n",
              "      <td>NaN</td>\n",
              "      <td>4513547</td>\n",
              "      <td>Sedan</td>\n",
              "      <td>NaN</td>\n",
              "      <td>NaN</td>\n",
              "      <td>NaN</td>\n",
              "      <td>NaN</td>\n",
              "    </tr>\n",
              "    <tr>\n",
              "      <th>2</th>\n",
              "      <td>06/29/2022</td>\n",
              "      <td>6:55</td>\n",
              "      <td>NaN</td>\n",
              "      <td>NaN</td>\n",
              "      <td>NaN</td>\n",
              "      <td>NaN</td>\n",
              "      <td>NaN</td>\n",
              "      <td>THROGS NECK BRIDGE</td>\n",
              "      <td>NaN</td>\n",
              "      <td>NaN</td>\n",
              "      <td>...</td>\n",
              "      <td>Unspecified</td>\n",
              "      <td>NaN</td>\n",
              "      <td>NaN</td>\n",
              "      <td>NaN</td>\n",
              "      <td>4541903</td>\n",
              "      <td>Sedan</td>\n",
              "      <td>Pick-up Truck</td>\n",
              "      <td>NaN</td>\n",
              "      <td>NaN</td>\n",
              "      <td>NaN</td>\n",
              "    </tr>\n",
              "    <tr>\n",
              "      <th>3</th>\n",
              "      <td>09/11/2021</td>\n",
              "      <td>9:35</td>\n",
              "      <td>BROOKLYN</td>\n",
              "      <td>11208.0</td>\n",
              "      <td>40.667202</td>\n",
              "      <td>-73.866500</td>\n",
              "      <td>(40.667202, -73.8665)</td>\n",
              "      <td>NaN</td>\n",
              "      <td>NaN</td>\n",
              "      <td>1211      LORING AVENUE</td>\n",
              "      <td>...</td>\n",
              "      <td>NaN</td>\n",
              "      <td>NaN</td>\n",
              "      <td>NaN</td>\n",
              "      <td>NaN</td>\n",
              "      <td>4456314</td>\n",
              "      <td>Sedan</td>\n",
              "      <td>NaN</td>\n",
              "      <td>NaN</td>\n",
              "      <td>NaN</td>\n",
              "      <td>NaN</td>\n",
              "    </tr>\n",
              "    <tr>\n",
              "      <th>4</th>\n",
              "      <td>12/14/2021</td>\n",
              "      <td>8:13</td>\n",
              "      <td>BROOKLYN</td>\n",
              "      <td>11233.0</td>\n",
              "      <td>40.683304</td>\n",
              "      <td>-73.917274</td>\n",
              "      <td>(40.683304, -73.917274)</td>\n",
              "      <td>SARATOGA AVENUE</td>\n",
              "      <td>DECATUR STREET</td>\n",
              "      <td>NaN</td>\n",
              "      <td>...</td>\n",
              "      <td>NaN</td>\n",
              "      <td>NaN</td>\n",
              "      <td>NaN</td>\n",
              "      <td>NaN</td>\n",
              "      <td>4486609</td>\n",
              "      <td>NaN</td>\n",
              "      <td>NaN</td>\n",
              "      <td>NaN</td>\n",
              "      <td>NaN</td>\n",
              "      <td>NaN</td>\n",
              "    </tr>\n",
              "  </tbody>\n",
              "</table>\n",
              "<p>5 rows × 29 columns</p>\n",
              "</div>\n",
              "    <div class=\"colab-df-buttons\">\n",
              "\n",
              "  <div class=\"colab-df-container\">\n",
              "    <button class=\"colab-df-convert\" onclick=\"convertToInteractive('df-42e93833-12f8-4a7c-b0bd-bf78bda21d40')\"\n",
              "            title=\"Convert this dataframe to an interactive table.\"\n",
              "            style=\"display:none;\">\n",
              "\n",
              "  <svg xmlns=\"http://www.w3.org/2000/svg\" height=\"24px\" viewBox=\"0 -960 960 960\">\n",
              "    <path d=\"M120-120v-720h720v720H120Zm60-500h600v-160H180v160Zm220 220h160v-160H400v160Zm0 220h160v-160H400v160ZM180-400h160v-160H180v160Zm440 0h160v-160H620v160ZM180-180h160v-160H180v160Zm440 0h160v-160H620v160Z\"/>\n",
              "  </svg>\n",
              "    </button>\n",
              "\n",
              "  <style>\n",
              "    .colab-df-container {\n",
              "      display:flex;\n",
              "      gap: 12px;\n",
              "    }\n",
              "\n",
              "    .colab-df-convert {\n",
              "      background-color: #E8F0FE;\n",
              "      border: none;\n",
              "      border-radius: 50%;\n",
              "      cursor: pointer;\n",
              "      display: none;\n",
              "      fill: #1967D2;\n",
              "      height: 32px;\n",
              "      padding: 0 0 0 0;\n",
              "      width: 32px;\n",
              "    }\n",
              "\n",
              "    .colab-df-convert:hover {\n",
              "      background-color: #E2EBFA;\n",
              "      box-shadow: 0px 1px 2px rgba(60, 64, 67, 0.3), 0px 1px 3px 1px rgba(60, 64, 67, 0.15);\n",
              "      fill: #174EA6;\n",
              "    }\n",
              "\n",
              "    .colab-df-buttons div {\n",
              "      margin-bottom: 4px;\n",
              "    }\n",
              "\n",
              "    [theme=dark] .colab-df-convert {\n",
              "      background-color: #3B4455;\n",
              "      fill: #D2E3FC;\n",
              "    }\n",
              "\n",
              "    [theme=dark] .colab-df-convert:hover {\n",
              "      background-color: #434B5C;\n",
              "      box-shadow: 0px 1px 3px 1px rgba(0, 0, 0, 0.15);\n",
              "      filter: drop-shadow(0px 1px 2px rgba(0, 0, 0, 0.3));\n",
              "      fill: #FFFFFF;\n",
              "    }\n",
              "  </style>\n",
              "\n",
              "    <script>\n",
              "      const buttonEl =\n",
              "        document.querySelector('#df-42e93833-12f8-4a7c-b0bd-bf78bda21d40 button.colab-df-convert');\n",
              "      buttonEl.style.display =\n",
              "        google.colab.kernel.accessAllowed ? 'block' : 'none';\n",
              "\n",
              "      async function convertToInteractive(key) {\n",
              "        const element = document.querySelector('#df-42e93833-12f8-4a7c-b0bd-bf78bda21d40');\n",
              "        const dataTable =\n",
              "          await google.colab.kernel.invokeFunction('convertToInteractive',\n",
              "                                                    [key], {});\n",
              "        if (!dataTable) return;\n",
              "\n",
              "        const docLinkHtml = 'Like what you see? Visit the ' +\n",
              "          '<a target=\"_blank\" href=https://colab.research.google.com/notebooks/data_table.ipynb>data table notebook</a>'\n",
              "          + ' to learn more about interactive tables.';\n",
              "        element.innerHTML = '';\n",
              "        dataTable['output_type'] = 'display_data';\n",
              "        await google.colab.output.renderOutput(dataTable, element);\n",
              "        const docLink = document.createElement('div');\n",
              "        docLink.innerHTML = docLinkHtml;\n",
              "        element.appendChild(docLink);\n",
              "      }\n",
              "    </script>\n",
              "  </div>\n",
              "\n",
              "\n",
              "<div id=\"df-7a67d6d6-0235-4bee-b763-609ddf0ec44b\">\n",
              "  <button class=\"colab-df-quickchart\" onclick=\"quickchart('df-7a67d6d6-0235-4bee-b763-609ddf0ec44b')\"\n",
              "            title=\"Suggest charts\"\n",
              "            style=\"display:none;\">\n",
              "\n",
              "<svg xmlns=\"http://www.w3.org/2000/svg\" height=\"24px\"viewBox=\"0 0 24 24\"\n",
              "     width=\"24px\">\n",
              "    <g>\n",
              "        <path d=\"M19 3H5c-1.1 0-2 .9-2 2v14c0 1.1.9 2 2 2h14c1.1 0 2-.9 2-2V5c0-1.1-.9-2-2-2zM9 17H7v-7h2v7zm4 0h-2V7h2v10zm4 0h-2v-4h2v4z\"/>\n",
              "    </g>\n",
              "</svg>\n",
              "  </button>\n",
              "\n",
              "<style>\n",
              "  .colab-df-quickchart {\n",
              "      --bg-color: #E8F0FE;\n",
              "      --fill-color: #1967D2;\n",
              "      --hover-bg-color: #E2EBFA;\n",
              "      --hover-fill-color: #174EA6;\n",
              "      --disabled-fill-color: #AAA;\n",
              "      --disabled-bg-color: #DDD;\n",
              "  }\n",
              "\n",
              "  [theme=dark] .colab-df-quickchart {\n",
              "      --bg-color: #3B4455;\n",
              "      --fill-color: #D2E3FC;\n",
              "      --hover-bg-color: #434B5C;\n",
              "      --hover-fill-color: #FFFFFF;\n",
              "      --disabled-bg-color: #3B4455;\n",
              "      --disabled-fill-color: #666;\n",
              "  }\n",
              "\n",
              "  .colab-df-quickchart {\n",
              "    background-color: var(--bg-color);\n",
              "    border: none;\n",
              "    border-radius: 50%;\n",
              "    cursor: pointer;\n",
              "    display: none;\n",
              "    fill: var(--fill-color);\n",
              "    height: 32px;\n",
              "    padding: 0;\n",
              "    width: 32px;\n",
              "  }\n",
              "\n",
              "  .colab-df-quickchart:hover {\n",
              "    background-color: var(--hover-bg-color);\n",
              "    box-shadow: 0 1px 2px rgba(60, 64, 67, 0.3), 0 1px 3px 1px rgba(60, 64, 67, 0.15);\n",
              "    fill: var(--button-hover-fill-color);\n",
              "  }\n",
              "\n",
              "  .colab-df-quickchart-complete:disabled,\n",
              "  .colab-df-quickchart-complete:disabled:hover {\n",
              "    background-color: var(--disabled-bg-color);\n",
              "    fill: var(--disabled-fill-color);\n",
              "    box-shadow: none;\n",
              "  }\n",
              "\n",
              "  .colab-df-spinner {\n",
              "    border: 2px solid var(--fill-color);\n",
              "    border-color: transparent;\n",
              "    border-bottom-color: var(--fill-color);\n",
              "    animation:\n",
              "      spin 1s steps(1) infinite;\n",
              "  }\n",
              "\n",
              "  @keyframes spin {\n",
              "    0% {\n",
              "      border-color: transparent;\n",
              "      border-bottom-color: var(--fill-color);\n",
              "      border-left-color: var(--fill-color);\n",
              "    }\n",
              "    20% {\n",
              "      border-color: transparent;\n",
              "      border-left-color: var(--fill-color);\n",
              "      border-top-color: var(--fill-color);\n",
              "    }\n",
              "    30% {\n",
              "      border-color: transparent;\n",
              "      border-left-color: var(--fill-color);\n",
              "      border-top-color: var(--fill-color);\n",
              "      border-right-color: var(--fill-color);\n",
              "    }\n",
              "    40% {\n",
              "      border-color: transparent;\n",
              "      border-right-color: var(--fill-color);\n",
              "      border-top-color: var(--fill-color);\n",
              "    }\n",
              "    60% {\n",
              "      border-color: transparent;\n",
              "      border-right-color: var(--fill-color);\n",
              "    }\n",
              "    80% {\n",
              "      border-color: transparent;\n",
              "      border-right-color: var(--fill-color);\n",
              "      border-bottom-color: var(--fill-color);\n",
              "    }\n",
              "    90% {\n",
              "      border-color: transparent;\n",
              "      border-bottom-color: var(--fill-color);\n",
              "    }\n",
              "  }\n",
              "</style>\n",
              "\n",
              "  <script>\n",
              "    async function quickchart(key) {\n",
              "      const quickchartButtonEl =\n",
              "        document.querySelector('#' + key + ' button');\n",
              "      quickchartButtonEl.disabled = true;  // To prevent multiple clicks.\n",
              "      quickchartButtonEl.classList.add('colab-df-spinner');\n",
              "      try {\n",
              "        const charts = await google.colab.kernel.invokeFunction(\n",
              "            'suggestCharts', [key], {});\n",
              "      } catch (error) {\n",
              "        console.error('Error during call to suggestCharts:', error);\n",
              "      }\n",
              "      quickchartButtonEl.classList.remove('colab-df-spinner');\n",
              "      quickchartButtonEl.classList.add('colab-df-quickchart-complete');\n",
              "    }\n",
              "    (() => {\n",
              "      let quickchartButtonEl =\n",
              "        document.querySelector('#df-7a67d6d6-0235-4bee-b763-609ddf0ec44b button');\n",
              "      quickchartButtonEl.style.display =\n",
              "        google.colab.kernel.accessAllowed ? 'block' : 'none';\n",
              "    })();\n",
              "  </script>\n",
              "</div>\n",
              "\n",
              "    </div>\n",
              "  </div>\n"
            ],
            "application/vnd.google.colaboratory.intrinsic+json": {
              "type": "dataframe",
              "variable_name": "df"
            }
          },
          "metadata": {},
          "execution_count": 7
        }
      ]
    },
    {
      "cell_type": "code",
      "source": [
        "print(df.info())"
      ],
      "metadata": {
        "colab": {
          "base_uri": "https://localhost:8080/"
        },
        "id": "fjhwl8IbmtCq",
        "outputId": "854b17c9-4315-4cf7-cdef-626b934c4cc3"
      },
      "execution_count": null,
      "outputs": [
        {
          "output_type": "stream",
          "name": "stdout",
          "text": [
            "<class 'pandas.core.frame.DataFrame'>\n",
            "RangeIndex: 2149560 entries, 0 to 2149559\n",
            "Data columns (total 29 columns):\n",
            " #   Column                         Dtype  \n",
            "---  ------                         -----  \n",
            " 0   CRASH DATE                     object \n",
            " 1   CRASH TIME                     object \n",
            " 2   BOROUGH                        object \n",
            " 3   ZIP CODE                       object \n",
            " 4   LATITUDE                       float64\n",
            " 5   LONGITUDE                      float64\n",
            " 6   LOCATION                       object \n",
            " 7   ON STREET NAME                 object \n",
            " 8   CROSS STREET NAME              object \n",
            " 9   OFF STREET NAME                object \n",
            " 10  NUMBER OF PERSONS INJURED      float64\n",
            " 11  NUMBER OF PERSONS KILLED       float64\n",
            " 12  NUMBER OF PEDESTRIANS INJURED  int64  \n",
            " 13  NUMBER OF PEDESTRIANS KILLED   int64  \n",
            " 14  NUMBER OF CYCLIST INJURED      int64  \n",
            " 15  NUMBER OF CYCLIST KILLED       int64  \n",
            " 16  NUMBER OF MOTORIST INJURED     int64  \n",
            " 17  NUMBER OF MOTORIST KILLED      int64  \n",
            " 18  CONTRIBUTING FACTOR VEHICLE 1  object \n",
            " 19  CONTRIBUTING FACTOR VEHICLE 2  object \n",
            " 20  CONTRIBUTING FACTOR VEHICLE 3  object \n",
            " 21  CONTRIBUTING FACTOR VEHICLE 4  object \n",
            " 22  CONTRIBUTING FACTOR VEHICLE 5  object \n",
            " 23  COLLISION_ID                   int64  \n",
            " 24  VEHICLE TYPE CODE 1            object \n",
            " 25  VEHICLE TYPE CODE 2            object \n",
            " 26  VEHICLE TYPE CODE 3            object \n",
            " 27  VEHICLE TYPE CODE 4            object \n",
            " 28  VEHICLE TYPE CODE 5            object \n",
            "dtypes: float64(4), int64(7), object(18)\n",
            "memory usage: 475.6+ MB\n",
            "None\n"
          ]
        }
      ]
    },
    {
      "cell_type": "code",
      "source": [
        "print(df.isnull().sum())"
      ],
      "metadata": {
        "colab": {
          "base_uri": "https://localhost:8080/"
        },
        "id": "4XQDQRf7mz6R",
        "outputId": "e0c86d0a-e90e-4a8a-90ed-5ff500564f60"
      },
      "execution_count": null,
      "outputs": [
        {
          "output_type": "stream",
          "name": "stdout",
          "text": [
            "CRASH DATE                             0\n",
            "CRASH TIME                             0\n",
            "BOROUGH                           666125\n",
            "ZIP CODE                          666390\n",
            "LATITUDE                          239580\n",
            "LONGITUDE                         239580\n",
            "LOCATION                          239580\n",
            "ON STREET NAME                    461828\n",
            "CROSS STREET NAME                 819640\n",
            "OFF STREET NAME                  1780105\n",
            "NUMBER OF PERSONS INJURED             18\n",
            "NUMBER OF PERSONS KILLED              31\n",
            "NUMBER OF PEDESTRIANS INJURED          0\n",
            "NUMBER OF PEDESTRIANS KILLED           0\n",
            "NUMBER OF CYCLIST INJURED              0\n",
            "NUMBER OF CYCLIST KILLED               0\n",
            "NUMBER OF MOTORIST INJURED             0\n",
            "NUMBER OF MOTORIST KILLED              0\n",
            "CONTRIBUTING FACTOR VEHICLE 1       7321\n",
            "CONTRIBUTING FACTOR VEHICLE 2     339379\n",
            "CONTRIBUTING FACTOR VEHICLE 3    1994713\n",
            "CONTRIBUTING FACTOR VEHICLE 4    2114334\n",
            "CONTRIBUTING FACTOR VEHICLE 5    2139943\n",
            "COLLISION_ID                           0\n",
            "VEHICLE TYPE CODE 1                14962\n",
            "VEHICLE TYPE CODE 2               421579\n",
            "VEHICLE TYPE CODE 3              2000557\n",
            "VEHICLE TYPE CODE 4              2115597\n",
            "VEHICLE TYPE CODE 5              2140240\n",
            "dtype: int64\n"
          ]
        }
      ]
    },
    {
      "cell_type": "code",
      "source": [
        "#Drop duplicates if they exist\n",
        "\n",
        "df=df.drop_duplicates()\n",
        "\n",
        "#Drop rows where essential columns are missing (like location, crash e/time)\n",
        "df=df.dropna(subset=['LATITUDE', 'LONGITUDE', 'CRASH DATE', 'CRASH TIME'])\n",
        "\n",
        "#Fill missing values in categorical columns with 'Unknown'\n",
        "\n",
        "categorical_cols = ['BOROUGH', 'ZIP CODE', 'ON STREET NAME', 'CROSS STREET NAME', 'OFF STREET NAME']\n",
        "df[categorical_cols] = df[categorical_cols].fillna('Unknown')\n",
        "\n",
        "#Replace missing values in contributing factors with 'Unspecified'\n",
        "contributing_factors = ['CONTRIBUTING FACTOR VEHICLE 1','CONTRIBUTING FACTOR VEHICLE 2','CONTRIBUTING FACTOR VEHICLE 3','CONTRIBUTING FACTOR VEHICLE 4', 'CONTRIBUTING FACTOR VEHICLE 5']\n",
        "\n",
        "df [contributing_factors]= df[contributing_factors].fillna ('Unspecified')\n",
        "\n",
        "#Replace missing vehicle type codes with 'Unknown'\n",
        "\n",
        "vehicle_columns = ['VEHICLE TYPE CODE 1', 'VEHICLE TYPE CODE 2', 'VEHICLE TYPE CODE 3', 'VEHICLE TYPE CODE 4', 'VEHICLE TYPE CODE 5']\n",
        "df[vehicle_columns] = df[vehicle_columns].fillna('Unknown')\n",
        "\n",
        "print(df.isnull().sum)"
      ],
      "metadata": {
        "colab": {
          "base_uri": "https://localhost:8080/"
        },
        "id": "N2WQH4zCnfcG",
        "outputId": "7ca12388-3cfb-4e4f-d127-33eb3a09cc19"
      },
      "execution_count": null,
      "outputs": [
        {
          "output_type": "stream",
          "name": "stdout",
          "text": [
            "<bound method DataFrame.sum of          CRASH DATE  CRASH TIME  BOROUGH  ZIP CODE  LATITUDE  LONGITUDE  \\\n",
            "3             False       False    False     False     False      False   \n",
            "4             False       False    False     False     False      False   \n",
            "6             False       False    False     False     False      False   \n",
            "7             False       False    False     False     False      False   \n",
            "8             False       False    False     False     False      False   \n",
            "...             ...         ...      ...       ...       ...        ...   \n",
            "2149555       False       False    False     False     False      False   \n",
            "2149556       False       False    False     False     False      False   \n",
            "2149557       False       False    False     False     False      False   \n",
            "2149558       False       False    False     False     False      False   \n",
            "2149559       False       False    False     False     False      False   \n",
            "\n",
            "         LOCATION  ON STREET NAME  CROSS STREET NAME  OFF STREET NAME  ...  \\\n",
            "3           False           False              False            False  ...   \n",
            "4           False           False              False            False  ...   \n",
            "6           False           False              False            False  ...   \n",
            "7           False           False              False            False  ...   \n",
            "8           False           False              False            False  ...   \n",
            "...           ...             ...                ...              ...  ...   \n",
            "2149555     False           False              False            False  ...   \n",
            "2149556     False           False              False            False  ...   \n",
            "2149557     False           False              False            False  ...   \n",
            "2149558     False           False              False            False  ...   \n",
            "2149559     False           False              False            False  ...   \n",
            "\n",
            "         CONTRIBUTING FACTOR VEHICLE 2  CONTRIBUTING FACTOR VEHICLE 3  \\\n",
            "3                                False                          False   \n",
            "4                                False                          False   \n",
            "6                                False                          False   \n",
            "7                                False                          False   \n",
            "8                                False                          False   \n",
            "...                                ...                            ...   \n",
            "2149555                          False                          False   \n",
            "2149556                          False                          False   \n",
            "2149557                          False                          False   \n",
            "2149558                          False                          False   \n",
            "2149559                          False                          False   \n",
            "\n",
            "         CONTRIBUTING FACTOR VEHICLE 4  CONTRIBUTING FACTOR VEHICLE 5  \\\n",
            "3                                False                          False   \n",
            "4                                False                          False   \n",
            "6                                False                          False   \n",
            "7                                False                          False   \n",
            "8                                False                          False   \n",
            "...                                ...                            ...   \n",
            "2149555                          False                          False   \n",
            "2149556                          False                          False   \n",
            "2149557                          False                          False   \n",
            "2149558                          False                          False   \n",
            "2149559                          False                          False   \n",
            "\n",
            "         COLLISION_ID  VEHICLE TYPE CODE 1  VEHICLE TYPE CODE 2  \\\n",
            "3               False                False                False   \n",
            "4               False                False                False   \n",
            "6               False                False                False   \n",
            "7               False                False                False   \n",
            "8               False                False                False   \n",
            "...               ...                  ...                  ...   \n",
            "2149555         False                False                False   \n",
            "2149556         False                False                False   \n",
            "2149557         False                False                False   \n",
            "2149558         False                False                False   \n",
            "2149559         False                False                False   \n",
            "\n",
            "         VEHICLE TYPE CODE 3  VEHICLE TYPE CODE 4  VEHICLE TYPE CODE 5  \n",
            "3                      False                False                False  \n",
            "4                      False                False                False  \n",
            "6                      False                False                False  \n",
            "7                      False                False                False  \n",
            "8                      False                False                False  \n",
            "...                      ...                  ...                  ...  \n",
            "2149555                False                False                False  \n",
            "2149556                False                False                False  \n",
            "2149557                False                False                False  \n",
            "2149558                False                False                False  \n",
            "2149559                False                False                False  \n",
            "\n",
            "[1909980 rows x 29 columns]>\n"
          ]
        }
      ]
    },
    {
      "cell_type": "code",
      "source": [
        "print(df ['CRASH TIME'].unique())\n",
        "\n",
        "df['CRASH TIME'] = df['CRASH TIME'].astype(str).str.strip() # Remove extra spaces\n",
        "df['CRASH TIME'] = df['CRASH TIME'].str.zfill(5) # Ensure format HH:MM"
      ],
      "metadata": {
        "colab": {
          "base_uri": "https://localhost:8080/"
        },
        "id": "mfZyoB70os6T",
        "outputId": "ffc36043-84d1-40d6-80f5-9f8cddef1025"
      },
      "execution_count": null,
      "outputs": [
        {
          "output_type": "stream",
          "name": "stdout",
          "text": [
            "['9:35' '8:13' '17:05' ... '5:52' '3:13' '2:14']\n"
          ]
        }
      ]
    },
    {
      "cell_type": "code",
      "source": [
        "# Convert crash_date to datetime format\n",
        "\n",
        "df ['CRASH DATE'] = pd.to_datetime(df ['CRASH DATE'])\n",
        "\n",
        "# Extract time-related features\n",
        "\n",
        "df ['year'] = df ['CRASH DATE'].dt.year\n",
        "\n",
        "df ['month'] = df ['CRASH DATE'].dt.month\n",
        "\n",
        "df ['day_of_week'] = df ['CRASH DATE'].dt.dayofweek #0 Monday, 6 Sunday\n",
        "\n",
        "#df ['hour'] = df ['CRASH TIME'].str[2].astype(int) # Extract hour from time\n",
        "df ['hour'] = pd.to_datetime(df ['CRASH TIME'], format='%H:%M', errors='coerce').dt.hour\n",
        "\n",
        "#Create a total accident severity score (sum of injuries and deaths)\n",
        "\n",
        "df ['total_casualties'] = (df ['NUMBER OF PERSONS INJURED'] + df ['NUMBER OF PERSONS KILLED'] + df ['NUMBER OF PEDESTRIANS INJURED'] + df ['NUMBER OF PEDESTRIANS KILLED'] +\n",
        "\n",
        "df ['NUMBER OF CYCLIST INJURED'] + df ['NUMBER OF CYCLIST KILLED'] +\n",
        "\n",
        "df ['NUMBER OF MOTORIST INJURED'] + df ['NUMBER OF MOTORIST KILLED'])\n",
        "\n",
        "# Categorize accidents into severity levels\n",
        "\n",
        "df ['severity_label'] = pd.cut(df['total_casualties'], bins=[-1, 0, 2, 5, 50], labels=['Minor', 'Moderate', 'Severe', 'Fatal'])"
      ],
      "metadata": {
        "id": "_Mt7aVVEo-0d"
      },
      "execution_count": null,
      "outputs": []
    },
    {
      "cell_type": "code",
      "source": [
        "# Group by location and count accidents\n",
        "\n",
        "high_risk_locations=df.groupby(['LATITUDE', 'LONGITUDE']).size().reset_index(name='accident_count')\n",
        "\n",
        "# Display top accident-prone locations\n",
        "\n",
        "print(high_risk_locations.sort_values (by='accident_count', ascending=False).head(10))"
      ],
      "metadata": {
        "colab": {
          "base_uri": "https://localhost:8080/"
        },
        "id": "p7P7eVOmpmmw",
        "outputId": "95b5923e-acee-40dc-a586-590aa2316b32"
      },
      "execution_count": null,
      "outputs": [
        {
          "output_type": "stream",
          "name": "stdout",
          "text": [
            "         LATITUDE  LONGITUDE  accident_count\n",
            "0        0.000000   0.000000            4907\n",
            "29068   40.608757 -74.038086             696\n",
            "285770  40.861862 -73.912820             685\n",
            "132470  40.696033 -73.984530             655\n",
            "246844  40.804700 -73.912430             597\n",
            "132474  40.696035 -73.984529             587\n",
            "101617  40.675735 -73.896860             581\n",
            "78814   40.658577 -73.890630             527\n",
            "244166  40.798256 -73.827440             474\n",
            "220935  40.760601 -73.964314             474\n"
          ]
        }
      ]
    },
    {
      "cell_type": "code",
      "source": [
        "print(df.columns)\n"
      ],
      "metadata": {
        "colab": {
          "base_uri": "https://localhost:8080/"
        },
        "id": "z3KswmoarEoW",
        "outputId": "1467b214-8c43-42b7-91fb-c3df74c6e0ff"
      },
      "execution_count": null,
      "outputs": [
        {
          "output_type": "stream",
          "name": "stdout",
          "text": [
            "Index(['CRASH DATE', 'CRASH TIME', 'BOROUGH', 'ZIP CODE', 'LATITUDE',\n",
            "       'LONGITUDE', 'LOCATION', 'ON STREET NAME', 'CROSS STREET NAME',\n",
            "       'OFF STREET NAME', 'NUMBER OF PERSONS INJURED',\n",
            "       'NUMBER OF PERSONS KILLED', 'NUMBER OF PEDESTRIANS INJURED',\n",
            "       'NUMBER OF PEDESTRIANS KILLED', 'NUMBER OF CYCLIST INJURED',\n",
            "       'NUMBER OF CYCLIST KILLED', 'NUMBER OF MOTORIST INJURED',\n",
            "       'NUMBER OF MOTORIST KILLED', 'CONTRIBUTING FACTOR VEHICLE 1',\n",
            "       'CONTRIBUTING FACTOR VEHICLE 2', 'CONTRIBUTING FACTOR VEHICLE 3',\n",
            "       'CONTRIBUTING FACTOR VEHICLE 4', 'CONTRIBUTING FACTOR VEHICLE 5',\n",
            "       'COLLISION_ID', 'VEHICLE TYPE CODE 1', 'VEHICLE TYPE CODE 2',\n",
            "       'VEHICLE TYPE CODE 3', 'VEHICLE TYPE CODE 4', 'VEHICLE TYPE CODE 5',\n",
            "       'year', 'month', 'day_of_week', 'hour', 'total_casualties',\n",
            "       'severity_label'],\n",
            "      dtype='object')\n"
          ]
        }
      ]
    },
    {
      "cell_type": "code",
      "source": [
        "df.columns = df.columns.str.lower().str.replace(\" \", \"_\")\n",
        "print(df.columns)  # Check again\n"
      ],
      "metadata": {
        "colab": {
          "base_uri": "https://localhost:8080/"
        },
        "id": "yCK0Re3ftfZu",
        "outputId": "e5720388-8fb3-4fb6-b593-b0b24cdb8e8c"
      },
      "execution_count": null,
      "outputs": [
        {
          "output_type": "stream",
          "name": "stdout",
          "text": [
            "Index(['crash_date', 'crash_time', 'borough', 'zip_code', 'latitude',\n",
            "       'longitude', 'location', 'on_street_name', 'cross_street_name',\n",
            "       'off_street_name', 'number_of_persons_injured',\n",
            "       'number_of_persons_killed', 'number_of_pedestrians_injured',\n",
            "       'number_of_pedestrians_killed', 'number_of_cyclist_injured',\n",
            "       'number_of_cyclist_killed', 'number_of_motorist_injured',\n",
            "       'number_of_motorist_killed', 'contributing_factor_vehicle_1',\n",
            "       'contributing_factor_vehicle_2', 'contributing_factor_vehicle_3',\n",
            "       'contributing_factor_vehicle_4', 'contributing_factor_vehicle_5',\n",
            "       'collision_id', 'vehicle_type_code_1', 'vehicle_type_code_2',\n",
            "       'vehicle_type_code_3', 'vehicle_type_code_4', 'vehicle_type_code_5',\n",
            "       'year', 'month', 'day_of_week', 'hour', 'total_casualties',\n",
            "       'severity_label'],\n",
            "      dtype='object')\n"
          ]
        }
      ]
    },
    {
      "cell_type": "code",
      "source": [
        "print(df['severity_label'].unique())\n"
      ],
      "metadata": {
        "colab": {
          "base_uri": "https://localhost:8080/"
        },
        "id": "icKwH9pQtpis",
        "outputId": "b8f799ab-3266-4683-af57-27444db04ec6"
      },
      "execution_count": null,
      "outputs": [
        {
          "output_type": "stream",
          "name": "stdout",
          "text": [
            "['Minor', 'Severe', 'Fatal', 'Moderate', NaN]\n",
            "Categories (4, object): ['Minor' < 'Moderate' < 'Severe' < 'Fatal']\n"
          ]
        }
      ]
    },
    {
      "cell_type": "code",
      "source": [
        "# Check for missing values\n",
        "print(\"Missing values before handling:\\n\", df[features].isnull().sum())\n",
        "\n",
        "# Option 1: Fill missing values with median (recommended for numerical data)\n",
        "df[features] = df[features].fillna(df[features].median())\n",
        "\n",
        "# Option 2: Drop rows with missing values (use only if missing values are few)\n",
        "# df = df.dropna(subset=features)\n",
        "\n",
        "# Confirm missing values are handled\n",
        "print(\"Missing values after handling:\\n\", df[features].isnull().sum())\n"
      ],
      "metadata": {
        "colab": {
          "base_uri": "https://localhost:8080/"
        },
        "id": "x3SNPNzEuT60",
        "outputId": "88b5672a-a1a9-46f5-f214-9035a3cd9a80"
      },
      "execution_count": null,
      "outputs": [
        {
          "output_type": "stream",
          "name": "stdout",
          "text": [
            "Missing values before handling:\n",
            " latitude                      0\n",
            "longitude                     0\n",
            "hour                          0\n",
            "day_of_week                   0\n",
            "month                         0\n",
            "number_of_persons_injured    16\n",
            "number_of_persons_killed     28\n",
            "dtype: int64\n",
            "Missing values after handling:\n",
            " latitude                     0\n",
            "longitude                    0\n",
            "hour                         0\n",
            "day_of_week                  0\n",
            "month                        0\n",
            "number_of_persons_injured    0\n",
            "number_of_persons_killed     0\n",
            "dtype: int64\n"
          ]
        }
      ]
    },
    {
      "cell_type": "code",
      "source": [
        "# Check for missing values in target column\n",
        "print(\"Missing values in target before handling:\", df[target].isnull().sum())\n",
        "\n",
        "# Drop rows where the target column has missing values\n",
        "df = df.dropna(subset=[target])\n",
        "\n",
        "# Confirm missing values are handled\n",
        "print(\"Missing values in target after handling:\", df[target].isnull().sum())\n"
      ],
      "metadata": {
        "colab": {
          "base_uri": "https://localhost:8080/"
        },
        "id": "YJGFy8flurzA",
        "outputId": "a7de234a-e626-45c3-b380-1695a2315f82"
      },
      "execution_count": null,
      "outputs": [
        {
          "output_type": "stream",
          "name": "stdout",
          "text": [
            "Missing values in target before handling: 38\n",
            "Missing values in target after handling: 0\n"
          ]
        }
      ]
    },
    {
      "cell_type": "code",
      "source": [
        "from sklearn.preprocessing import LabelEncoder\n",
        "\n",
        "# Encode target labels\n",
        "label_encoder = LabelEncoder()\n",
        "df[target] = label_encoder.fit_transform(df[target])\n",
        "\n",
        "# Print the mapping of labels\n",
        "print(\"Label Encoding Mapping:\")\n",
        "print(dict(zip(label_encoder.classes_, label_encoder.transform(label_encoder.classes_))))\n"
      ],
      "metadata": {
        "colab": {
          "base_uri": "https://localhost:8080/"
        },
        "id": "AmdWhZgcu5T7",
        "outputId": "66c567a9-d7e9-4051-f90e-d2d0b1b5786b"
      },
      "execution_count": null,
      "outputs": [
        {
          "output_type": "stream",
          "name": "stdout",
          "text": [
            "Label Encoding Mapping:\n",
            "{'Fatal': 0, 'Minor': 1, 'Moderate': 2, 'Severe': 3}\n"
          ]
        }
      ]
    },
    {
      "cell_type": "code",
      "source": [
        "from sklearn.model_selection import train_test_split\n",
        "from xgboost import XGBClassifier\n",
        "from sklearn.metrics import accuracy_score, classification_report, confusion_matrix\n",
        "\n",
        "# Feature columns and target variable\n",
        "features = ['latitude', 'longitude', 'hour', 'day_of_week', 'month',\n",
        "            'number_of_persons_injured', 'number_of_persons_killed']\n",
        "target = 'severity_label'\n",
        "\n",
        "# Handle missing values\n",
        "df[features] = df[features].fillna(df[features].median())  # Fill NaNs with median\n",
        "\n",
        "# Splitting the dataset\n",
        "X_train, X_test, y_train, y_test = train_test_split(df[features], df[target],\n",
        "                                                    test_size=0.2, random_state=42,\n",
        "                                                    stratify=df[target])\n",
        "\n",
        "print(f\"Training Set: {X_train.shape}, Testing Set: {X_test.shape}\")\n",
        "\n",
        "# Initialize the model\n",
        "xgb_model = XGBClassifier(n_estimators=100, max_depth=7, learning_rate=0.1, random_state=42)\n",
        "\n",
        "# Train the model\n",
        "xgb_model.fit(X_train, y_train)\n",
        "\n",
        "# Predictions\n",
        "y_pred = xgb_model.predict(X_test)\n",
        "\n",
        "# Model Evaluation\n",
        "print(\"Accuracy:\", accuracy_score(y_test, y_pred))\n",
        "print(\"Classification Report:\\n\", classification_report(y_test, y_pred))\n",
        "print(\"Confusion Matrix:\\n\", confusion_matrix(y_test, y_pred))\n"
      ],
      "metadata": {
        "colab": {
          "base_uri": "https://localhost:8080/"
        },
        "id": "AcfzEJWBt_2U",
        "outputId": "3f1fba93-270e-48c7-fe9b-5c7ab08e16c0"
      },
      "execution_count": null,
      "outputs": [
        {
          "output_type": "stream",
          "name": "stdout",
          "text": [
            "Training Set: (1527953, 7), Testing Set: (381989, 7)\n",
            "Accuracy: 0.9996492045582465\n",
            "Classification Report:\n",
            "               precision    recall  f1-score   support\n",
            "\n",
            "           0       1.00      1.00      1.00      6906\n",
            "           1       1.00      1.00      1.00    290477\n",
            "           2       1.00      1.00      1.00     71549\n",
            "           3       0.99      1.00      1.00     13057\n",
            "\n",
            "    accuracy                           1.00    381989\n",
            "   macro avg       1.00      1.00      1.00    381989\n",
            "weighted avg       1.00      1.00      1.00    381989\n",
            "\n",
            "Confusion Matrix:\n",
            " [[  6905      1      0      0]\n",
            " [     0 290477      0      0]\n",
            " [     0     20  71449     80]\n",
            " [    25      3      5  13024]]\n"
          ]
        }
      ]
    },
    {
      "cell_type": "code",
      "source": [],
      "metadata": {
        "id": "5Gv58fBEudEq"
      },
      "execution_count": null,
      "outputs": []
    }
  ]
}